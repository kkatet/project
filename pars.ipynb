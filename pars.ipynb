{
 "cells": [
  {
   "cell_type": "code",
   "execution_count": 39,
   "metadata": {},
   "outputs": [],
   "source": [
    "pages = ['https://www.mk.ru/search/?q=%D0%B0%D1%80%D0%B7%D0%B0%D0%BC%D0%B0%D1%81%D1%81%D0%BA%D0%B8%D0%B9+%D1%80%D0%B0%D0%B9%D0%BE%D0%BD',\n",
    "'https://www.mk.ru/search/2/?q=%D0%B0%D1%80%D0%B7%D0%B0%D0%BC%D0%B0%D1%81%D1%81%D0%BA%D0%B8%D0%B9%20%D1%80%D0%B0%D0%B9%D0%BE%D0%BD',\n",
    "'https://www.mk.ru/search/3/?q=%D0%B0%D1%80%D0%B7%D0%B0%D0%BC%D0%B0%D1%81%D1%81%D0%BA%D0%B8%D0%B9%20%D1%80%D0%B0%D0%B9%D0%BE%D0%BD',\n",
    "'https://www.mk.ru/search/4/?q=%D0%B0%D1%80%D0%B7%D0%B0%D0%BC%D0%B0%D1%81%D1%81%D0%BA%D0%B8%D0%B9%20%D1%80%D0%B0%D0%B9%D0%BE%D0%BD',\n",
    "    \n",
    "'https://www.mk.ru/search/?q=%D0%91%D0%B0%D0%BB%D0%B0%D1%85%D0%BD%D0%B8%D0%BD%D1%81%D0%BA%D0%B8%D0%B9+%D1%80%D0%B0%D0%B9%D0%BE%D0%BD',\n",
    "'https://www.mk.ru/search/2/?q=%D0%91%D0%B0%D0%BB%D0%B0%D1%85%D0%BD%D0%B8%D0%BD%D1%81%D0%BA%D0%B8%D0%B9+%D1%80%D0%B0%D0%B9%D0%BE%D0%BD',\n",
    "'https://www.mk.ru/search/3/?q=%D0%91%D0%B0%D0%BB%D0%B0%D1%85%D0%BD%D0%B8%D0%BD%D1%81%D0%BA%D0%B8%D0%B9+%D1%80%D0%B0%D0%B9%D0%BE%D0%BD',\n",
    "'https://www.mk.ru/search/4/?q=%D0%91%D0%B0%D0%BB%D0%B0%D1%85%D0%BD%D0%B8%D0%BD%D1%81%D0%BA%D0%B8%D0%B9+%D1%80%D0%B0%D0%B9%D0%BE%D0%BD' ]"
   ]
  },
  {
   "cell_type": "code",
   "execution_count": 44,
   "metadata": {},
   "outputs": [],
   "source": [
    "import requests, bs4\n",
    "import re\n",
    "\n",
    "for p in pages:\n",
    "    s = requests.get(p, timeout = 5)\n",
    "    b = bs4.BeautifulSoup(s.text, \"html.parser\")\n",
    "    links = []\n",
    "    \n",
    "    for x in b.find_all(\"div\", attrs = {\"class\":\"img_container big_listing_img\"}):\n",
    "        a1 = r'href=\"(.+?)\"'\n",
    "        link = re.findall(a1, str(x))\n",
    "        links += link\n",
    "    \n",
    "    for l in links:\n",
    "        a = requests.get(l)\n",
    "        c = bs4.BeautifulSoup(a.text, \"html.parser\")\n",
    "    \n",
    "        article = []\n",
    "\n",
    "    \n",
    "        for ww in c.find_all(\"div\", attrs = {\"itemprop\":\"articleBody\", \"class\":\"inread-content\"}):\n",
    "            st = r'<(.+?)>'\n",
    "            article = re.sub(st,'',str(ww))\n",
    "            with open(\"corpus.txt\", \"w\", encoding='utf-8') as file:\n",
    "                file.write(article)"
   ]
  },
  {
   "cell_type": "code",
   "execution_count": null,
   "metadata": {},
   "outputs": [],
   "source": []
  },
  {
   "cell_type": "code",
   "execution_count": null,
   "metadata": {},
   "outputs": [],
   "source": []
  }
 ],
 "metadata": {
  "kernelspec": {
   "display_name": "Python 3",
   "language": "python",
   "name": "python3"
  },
  "language_info": {
   "codemirror_mode": {
    "name": "ipython",
    "version": 3
   },
   "file_extension": ".py",
   "mimetype": "text/x-python",
   "name": "python",
   "nbconvert_exporter": "python",
   "pygments_lexer": "ipython3",
   "version": "3.7.4"
  }
 },
 "nbformat": 4,
 "nbformat_minor": 2
}
